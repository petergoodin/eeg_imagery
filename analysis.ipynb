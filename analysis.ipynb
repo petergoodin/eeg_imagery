{
 "cells": [
  {
   "cell_type": "code",
   "execution_count": 2,
   "metadata": {},
   "outputs": [
    {
     "name": "stdout",
     "output_type": "stream",
     "text": [
      "Populating the interactive namespace from numpy and matplotlib\n"
     ]
    },
    {
     "name": "stderr",
     "output_type": "stream",
     "text": [
      "/home/orcasha/anaconda2/envs/py35/lib/python3.5/site-packages/IPython/core/magics/pylab.py:160: UserWarning: pylab import has clobbered these variables: ['plt', 'fftpack']\n",
      "`%matplotlib` prevents importing * from pylab and numpy\n",
      "  \"\\n`%matplotlib` prevents importing * from pylab and numpy\"\n"
     ]
    }
   ],
   "source": [
    "%pylab inline\n",
    "import numpy as np\n",
    "import scipy.fftpack as fftpack\n",
    "import scipy.io as io\n",
    "import scipy.signal as signal\n",
    "import scipy.stats as stats\n",
    "import matplotlib.pylab as plt\n",
    "import sklearn\n",
    "import json_tricks\n",
    "import glob\n",
    "import os\n",
    "import sys"
   ]
  },
  {
   "cell_type": "code",
   "execution_count": 6,
   "metadata": {},
   "outputs": [
    {
     "data": {
      "text/plain": [
       "['/mnt/data/eeg_preproc/s01_eeg.json',\n",
       " '/mnt/data/eeg_preproc/s02_eeg.json',\n",
       " '/mnt/data/eeg_preproc/s03_eeg.json',\n",
       " '/mnt/data/eeg_preproc/s04_eeg.json',\n",
       " '/mnt/data/eeg_preproc/s05_eeg.json',\n",
       " '/mnt/data/eeg_preproc/s06_eeg.json',\n",
       " '/mnt/data/eeg_preproc/s07_eeg.json',\n",
       " '/mnt/data/eeg_preproc/s08_eeg.json',\n",
       " '/mnt/data/eeg_preproc/s09_eeg.json',\n",
       " '/mnt/data/eeg_preproc/s10_eeg.json',\n",
       " '/mnt/data/eeg_preproc/s11_eeg.json',\n",
       " '/mnt/data/eeg_preproc/s12_eeg.json',\n",
       " '/mnt/data/eeg_preproc/s13_eeg.json',\n",
       " '/mnt/data/eeg_preproc/s14_eeg.json',\n",
       " '/mnt/data/eeg_preproc/s15_eeg.json',\n",
       " '/mnt/data/eeg_preproc/s16_eeg.json',\n",
       " '/mnt/data/eeg_preproc/s17_eeg.json',\n",
       " '/mnt/data/eeg_preproc/s18_eeg.json',\n",
       " '/mnt/data/eeg_preproc/s19_eeg.json',\n",
       " '/mnt/data/eeg_preproc/s20_eeg.json',\n",
       " '/mnt/data/eeg_preproc/s21_eeg.json',\n",
       " '/mnt/data/eeg_preproc/s22_eeg.json',\n",
       " '/mnt/data/eeg_preproc/s23_eeg.json',\n",
       " '/mnt/data/eeg_preproc/s24_eeg.json',\n",
       " '/mnt/data/eeg_preproc/s25_eeg.json',\n",
       " '/mnt/data/eeg_preproc/s26_eeg.json',\n",
       " '/mnt/data/eeg_preproc/s27_eeg.json',\n",
       " '/mnt/data/eeg_preproc/s28_eeg.json',\n",
       " '/mnt/data/eeg_preproc/s29_eeg.json',\n",
       " '/mnt/data/eeg_preproc/s30_eeg.json',\n",
       " '/mnt/data/eeg_preproc/s31_eeg.json',\n",
       " '/mnt/data/eeg_preproc/s33_eeg.json',\n",
       " '/mnt/data/eeg_preproc/s34_eeg.json',\n",
       " '/mnt/data/eeg_preproc/s35_eeg.json',\n",
       " '/mnt/data/eeg_preproc/s36_eeg.json',\n",
       " '/mnt/data/eeg_preproc/s37_eeg.json',\n",
       " '/mnt/data/eeg_preproc/s38_eeg.json',\n",
       " '/mnt/data/eeg_preproc/s39_eeg.json',\n",
       " '/mnt/data/eeg_preproc/s40_eeg.json',\n",
       " '/mnt/data/eeg_preproc/s41_eeg.json',\n",
       " '/mnt/data/eeg_preproc/s42_eeg.json',\n",
       " '/mnt/data/eeg_preproc/s43_eeg.json',\n",
       " '/mnt/data/eeg_preproc/s44_eeg.json',\n",
       " '/mnt/data/eeg_preproc/s45_eeg.json',\n",
       " '/mnt/data/eeg_preproc/s47_eeg.json',\n",
       " '/mnt/data/eeg_preproc/s48_eeg.json',\n",
       " '/mnt/data/eeg_preproc/s50_eeg.json',\n",
       " '/mnt/data/eeg_preproc/s51_eeg.json',\n",
       " '/mnt/data/eeg_preproc/s52_eeg.json']"
      ]
     },
     "execution_count": 6,
     "metadata": {},
     "output_type": "execute_result"
    }
   ],
   "source": [
    "#Set up paths to read\n",
    "\n",
    "save_path = '/mnt/data/eeg_preproc/'\n",
    "subj_files = glob.glob(save_path + '/*.json')\n",
    "subj_files.sort()"
   ]
  }
 ],
 "metadata": {
  "kernelspec": {
   "display_name": "Python [conda env:py35]",
   "language": "python",
   "name": "conda-env-py35-py"
  },
  "language_info": {
   "codemirror_mode": {
    "name": "ipython",
    "version": 3
   },
   "file_extension": ".py",
   "mimetype": "text/x-python",
   "name": "python",
   "nbconvert_exporter": "python",
   "pygments_lexer": "ipython3",
   "version": "3.5.4"
  }
 },
 "nbformat": 4,
 "nbformat_minor": 2
}
